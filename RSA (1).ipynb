{
 "cells": [
  {
   "attachments": {},
   "cell_type": "markdown",
   "id": "dc81f4af",
   "metadata": {},
   "source": [
    "## Proyecto Final - Matemáticas Discretas II 2023-1 G2\n",
    "\n",
    "Autores:$\\newline$ Fabián Humberto Chaparro Aguilera $\\newline$\n",
    "         Sebastián Ortiz González $\\newline$\n",
    "         Fernando Novoa Salazar $\\newline$\n",
    "         Daniel Felipe Ahumada Hernández"
   ]
  },
  {
   "attachments": {},
   "cell_type": "markdown",
   "id": "e6d37af5",
   "metadata": {},
   "source": [
    "## Introducción"
   ]
  },
  {
   "attachments": {},
   "cell_type": "markdown",
   "id": "874f525f",
   "metadata": {},
   "source": [
    "El presente proyecto tiene como objetivo implementar el algoritmo de encriptación y desencriptación RSA utilizando Python. El algoritmo RSA es utilizado en la criptografía moderna debido a su eficacia y seguridad en la protección de datos confidenciales, lo que lo hace una herramienta popular y confiable en esta área.\n",
    "\n",
    "La motivación detrás de este proyecto radica principalmente en lo llamativo que nos resultó el estudio de los números primos y sus propiedades durante el curso, de entre los demás temas. La forma en la que los primos se relacionan con la importancia de garantizar la confidencialidad de la información en los entornos digitales y en los sistemas de cómputo interconectados. Con el crecimiento actual de la comunicación electrónica y el intercambio de datos sensibles, resulta fundamental contar con mecanismos de encriptación robustos que protejan la privacidad y eviten el acceso no autorizado a la información.\n",
    "\n",
    "El algoritmo RSA es especialmente relevante en esta era digital, ya que se basa en la dificultad computacional de factorizar números primos grandes en sus factores primos, lo que lo hace altamente seguro frente a ataques de fuerza bruta. Además, la particularidad de este algoritmo es su enfoque de clave pública, que proporciona una forma segura de intercambiar información confidencial sin necesidad de compartir la clave de desencriptación. Se puede usar en diversos escenarios, como el intercambio seguro de mensajes en línea, el almacenamiento seguro de archivos y la protección de datos sensibles en entornos empresariales. \n",
    "\n",
    "En este proyecto, se ha desarrollado un código en Python que implementa el algoritmo RSA. La clase RSA creada agrupa todos los métodos necesarios para resolver el problema, incluyendo la generación de claves públicas y privadas, la encriptación y desencriptación de archivos de texto.\n",
    "\n",
    "Con el código desarrollado, es posible encriptar y desencriptar archivos de texto de manera sencilla y confiable, garantizando la privacidad y la integridad de la información transmitida o almacenada."
   ]
  },
  {
   "attachments": {},
   "cell_type": "markdown",
   "id": "d967e9d1",
   "metadata": {},
   "source": [
    "## Lógica y métodos  "
   ]
  },
  {
   "attachments": {},
   "cell_type": "markdown",
   "id": "8ce83070",
   "metadata": {},
   "source": [
    "En primer lugar, creamos una clase llamada RSA para agrupar todos nuestros métodos y variables destinados a resolver el problema. En el método __init__, comenzamos por encontrar dos números primos dentro de un intervalo proporcionado por el usuario. Después de generar aleatoriamente estos dos números primos, procedemos a calcular las claves. Estas claves se guardan dentro de la clase RSA. La primera clave se obtiene multiplicando los dos números primos. A continuación, encontramos el inverso multiplicativo y generamos las demás claves utilizando las funciones generarE y generarD. Luego, hacemos uso de las funciones encriptar y desencriptar para trabajar con los archivos de texto que contienen las cadenas de texto encriptadas."
   ]
  },
  {
   "attachments": {},
   "cell_type": "markdown",
   "id": "83e002af",
   "metadata": {},
   "source": [
    "### Métodos"
   ]
  },
  {
   "attachments": {},
   "cell_type": "markdown",
   "id": "f77b180d",
   "metadata": {},
   "source": [
    "#### buscarNumeroPrimo"
   ]
  },
  {
   "attachments": {},
   "cell_type": "markdown",
   "id": "c5394b54",
   "metadata": {},
   "source": [
    "El propósito de esta función es buscar un número primo dentro de un intervalo pasado como parámetro. Se utilizan dos variables, \"rango1\" y \"rango2\", que determinan el límite inferior y superior donde se buscará el número primo. Dentro de la función \"__buscarNumeroPrimo__\", se utiliza otra función llamada \"esPrimo\" para verificar si un número es primo. Si el número es primo, se le suma uno; en caso contrario, se retorna 0.\n",
    "\n",
    "\n",
    "\n",
    "\n"
   ]
  },
  {
   "cell_type": "code",
   "execution_count": null,
   "id": "9c676d78",
   "metadata": {},
   "outputs": [],
   "source": [
    "    def buscarNumeroPrimo(self, rango1, rango2):\n",
    "        \"\"\"Busca un número primo en el rango especificado.\"\"\"\n",
    "        numeroPrimo = rango1\n",
    "        while not self.esPrimo(numeroPrimo) and numeroPrimo < rango2:\n",
    "            numeroPrimo += 1\n",
    "        if not self.esPrimo(numeroPrimo):\n",
    "            return 0\n",
    "        return numeroPrimo"
   ]
  },
  {
   "attachments": {},
   "cell_type": "markdown",
   "id": "257f8bed",
   "metadata": {},
   "source": [
    "#### esPrimo"
   ]
  },
  {
   "attachments": {},
   "cell_type": "markdown",
   "id": "18bcccfe",
   "metadata": {},
   "source": [
    "Esta función se encarga de verificar si un número es primo o no. Para hacerlo, se verifica si el número tiene algún divisor. Para ello, se utiliza un bucle \"for\" que comienza desde el número 2 y va hasta el número pasado como parámetro. Si el resto de la división es diferente de cero para algún valor del bucle, entonces el número no es primo y se retorna \"false\"."
   ]
  },
  {
   "cell_type": "code",
   "execution_count": null,
   "id": "fe995440",
   "metadata": {},
   "outputs": [],
   "source": [
    "    def esPrimo(self, numero):\n",
    "        \"\"\"Verifica si un número es primo.\"\"\"\n",
    "        for i in range(2, numero):\n",
    "            if numero % i == 0:\n",
    "                return False\n",
    "        return True"
   ]
  },
  {
   "attachments": {},
   "cell_type": "markdown",
   "id": "cbf58fec",
   "metadata": {},
   "source": [
    "#### mcd"
   ]
  },
  {
   "attachments": {},
   "cell_type": "markdown",
   "id": "821e36ac",
   "metadata": {},
   "source": [
    "La función \"__mcd__\" calcula el mínimo común divisor de dos números. En esta función, se pasan los valores como parámetros y se realiza el cálculo obteniendo siempre el resto de la división entre \"a\" y \"b\". Luego, se asigna el valor del resto a \"b\" y el valor de \"b\" a \"a\".\n",
    "\n",
    "\n",
    "\n",
    "\n"
   ]
  },
  {
   "cell_type": "code",
   "execution_count": null,
   "id": "fb8d5420",
   "metadata": {},
   "outputs": [],
   "source": [
    "def mcd(self, a, b):\n",
    "        \"\"\"Calcula el máximo común divisor (MCD) de dos números.\"\"\"\n",
    "        resto = 0\n",
    "        while b > 0:\n",
    "            resto = b\n",
    "            b = a % b\n",
    "            a = resto\n",
    "        return a"
   ]
  },
  {
   "attachments": {},
   "cell_type": "markdown",
   "id": "f5cdddfb",
   "metadata": {},
   "source": [
    "#### establecerClaves"
   ]
  },
  {
   "attachments": {},
   "cell_type": "markdown",
   "id": "a57dbbd1",
   "metadata": {},
   "source": [
    "La función \"establecerClaves\" se encarga de calcular las claves utilizando los números primos generados. La clase RSA tiene las variables n, z, e y d, donde se almacenan los resultados de multiplicar los números primos y el producto de los primos menos uno ($(p - 1) * (q - 1)$). A continuación, se utilizan las funciones \"generarE\" y \"generarD\" para completar el proceso.\n",
    "\n",
    "\n",
    "\n",
    "\n"
   ]
  },
  {
   "cell_type": "code",
   "execution_count": null,
   "id": "6d92a971",
   "metadata": {},
   "outputs": [],
   "source": [
    "    def establecerClaves(self, p, q):\n",
    "        \"\"\"Establece las claves pública y privada utilizando los números primos p y q.\"\"\"\n",
    "        self.n = p * q  # Producto de p y q\n",
    "        self.z = (p - 1) * (q - 1)  # Valor de Euler\n",
    "        self.e = self.generarE()  # Clave pública\n",
    "        self.d = self.generarD()  # Clave privada"
   ]
  },
  {
   "attachments": {},
   "cell_type": "markdown",
   "id": "5bc7fa64",
   "metadata": {},
   "source": [
    "#### generarE"
   ]
  },
  {
   "attachments": {},
   "cell_type": "markdown",
   "id": "d111de1e",
   "metadata": {},
   "source": [
    "La función \"generarE\" se encarga de calcular el valor de la variable e, que se utiliza en el proceso de encriptado. En esta función, se busca el máximo común divisor (mcd) entre el producto ($(p - 1) * (q - 1)$) y un número determinado, en este caso, 2.\n",
    "\n",
    "\n",
    "\n",
    "\n"
   ]
  },
  {
   "cell_type": "code",
   "execution_count": null,
   "id": "7b88cda9",
   "metadata": {},
   "outputs": [],
   "source": [
    "    def generarE(self):\n",
    "        \"\"\"Genera la clave pública 'e'.\"\"\"\n",
    "        e = 2\n",
    "        while e < self.z:\n",
    "            if self.mcd(e, self.z) == 1:\n",
    "                return e\n",
    "            e += 1"
   ]
  },
  {
   "attachments": {},
   "cell_type": "markdown",
   "id": "8a79f4b6",
   "metadata": {},
   "source": [
    "#### generarD"
   ]
  },
  {
   "attachments": {},
   "cell_type": "markdown",
   "id": "ebf5ce69",
   "metadata": {},
   "source": [
    "La función \"generarD\" se encarga de generar la variable \"d\" utilizando la siguiente fórmula: $(d \\cdot e) \\div z = 1$. La función calcula el valor de \"d\" de manera que al multiplicarlo por \"e\" y dividirlo por \"z\", se obtenga el resultado de 1. Luego, la función retorna el valor de \"d\".\n",
    "\n",
    "\n",
    "\n",
    "\n"
   ]
  },
  {
   "cell_type": "code",
   "execution_count": null,
   "id": "d0a554ab",
   "metadata": {},
   "outputs": [],
   "source": [
    "    def generarD(self):\n",
    "        \"\"\"Genera la clave privada 'd'.\"\"\"\n",
    "        d = 2\n",
    "        while d < self.z:\n",
    "            if (d * self.e) % self.z == 1:\n",
    "                return d\n",
    "            d += 1"
   ]
  },
  {
   "attachments": {},
   "cell_type": "markdown",
   "id": "58968b92",
   "metadata": {},
   "source": [
    "#### pedirRango"
   ]
  },
  {
   "attachments": {},
   "cell_type": "markdown",
   "id": "3ee13874",
   "metadata": {},
   "source": [
    "La función \"pedirRango\" se encarga de solicitar un rango al usuario mediante la entrada de datos.\n",
    "\n",
    "\n",
    "\n",
    "\n"
   ]
  },
  {
   "cell_type": "code",
   "execution_count": null,
   "id": "64bf0d3b",
   "metadata": {},
   "outputs": [],
   "source": [
    "    def pedirRango(self):\n",
    "        \"\"\"Solicita al usuario que ingrese el rango para buscar números primos.\"\"\"\n",
    "        rango1 = 0\n",
    "        rango2 = 0\n",
    "        while rango1 == 0 or rango1 == 1 or rango2 == 0 or rango2 == 1 or rango1 == 2 or rango2 == 2:\n",
    "            rango1 = int(input(\"Ingrese el número para comenzar a buscar un número primo: \"))\n",
    "            rango2 = int(input(\"Ingrese el número para terminar de buscar un número primo: \"))\n",
    "            if rango1 == 0 or rango2 == 0 or rango1 == 1 or rango2 == 1 or rango1 == 2 or rango2 == 2:\n",
    "                print(\"El rango debe ser mayor a 2\")\n",
    "            else:\n",
    "                print(\"El rango ingresado es válido\")\n",
    "        return rango1, rango2"
   ]
  },
  {
   "attachments": {},
   "cell_type": "markdown",
   "id": "8e6e770e",
   "metadata": {},
   "source": [
    "#### encriptar"
   ]
  },
  {
   "attachments": {},
   "cell_type": "markdown",
   "id": "19fcafd2",
   "metadata": {},
   "source": [
    "La función \"encriptar\" se encarga de tomar una línea de texto del archivo y convertirla en un número menor que la clave pública. Luego, calcula el texto cifrado utilizando la operación de módulo: $c \\equiv m^e \\pmod{n}$.\n",
    "\n",
    "\n",
    "\n",
    "\n"
   ]
  },
  {
   "cell_type": "code",
   "execution_count": null,
   "id": "af353971",
   "metadata": {},
   "outputs": [],
   "source": [
    "    def encriptar(self, nombreArchivo):\n",
    "        \"\"\"Encripta el contenido de un archivo y lo guarda en otro archivo.\"\"\"\n",
    "        simbolos = (\"!@#$%^&*()_+):;'?/.>,<\\|=-\")\t\n",
    "        with open(nombreArchivo, \"r\") as archivo:\n",
    "            texto = archivo.read()\n",
    "        \n",
    "        with open(\"ArchivoEncriptado.txt\", \"w\") as archivo:\n",
    "            for caracter in texto:\n",
    "                encript = random.randrange(1, len(simbolos))\n",
    "                simbolo = simbolos[encript]\n",
    "                encriptado = pow(ord(caracter), self.e, self.n)\n",
    "                archivo.write(str(encriptado) + simbolo)\n",
    "        \n",
    "        print(\"El archivo se ha encriptado correctamente\")\n",
    "        print(\"El archivo encriptado se llama: ArchivoEncriptado.txt\")"
   ]
  },
  {
   "attachments": {},
   "cell_type": "markdown",
   "id": "eed91b91",
   "metadata": {},
   "source": [
    "#### desencriptar\n"
   ]
  },
  {
   "attachments": {},
   "cell_type": "markdown",
   "id": "7ec94248",
   "metadata": {},
   "source": [
    "La función \"desencriptar\" se encarga de recuperar el mensaje a partir del texto cifrado utilizando el exponente \"d\" de la clave privada. Esto se logra mediante el siguiente cálculo: $m \\equiv c^d \\pmod{n}$.\n",
    "\n",
    "\n",
    "\n",
    "\n"
   ]
  },
  {
   "cell_type": "code",
   "execution_count": null,
   "id": "a8b625fe",
   "metadata": {},
   "outputs": [],
   "source": [
    "    def desencriptar(self, nombreArchivo):\n",
    "        \"\"\"Desencripta el contenido de un archivo encriptado y lo guarda en otro archivo.\"\"\"\n",
    "        simbolos = (\"!@#$%^&*()_+):;'?/.>,<\\|=-\")\n",
    "        with open(nombreArchivo, \"r\") as archivo:\n",
    "            texto_encriptado = archivo.read()\n",
    "            \n",
    "            numeros_encriptados = []\n",
    "            numero_actual = \"\"\n",
    "            for caracter in texto_encriptado:\n",
    "                if caracter in simbolos:\n",
    "                    if numero_actual:\n",
    "                        numeros_encriptados.append(numero_actual)\n",
    "                        numero_actual = \"\"\n",
    "                else:\n",
    "                    numero_actual += caracter\n",
    "            \n",
    "            mensaje_desencriptado = \"\"\n",
    "            for numero in numeros_encriptados:\n",
    "                desencriptado = pow(int(numero), self.d, self.n)\n",
    "                mensaje_desencriptado += chr(desencriptado)\n",
    "            \n",
    "            with open(\"ArchivoDesencriptado.txt\", \"w\") as archivo:\n",
    "                archivo.write(mensaje_desencriptado)"
   ]
  },
  {
   "cell_type": "code",
   "execution_count": null,
   "id": "c021d079",
   "metadata": {},
   "outputs": [],
   "source": [
    "import random\n",
    "\n",
    "class RSA:\n",
    "    def __init__(self):\n",
    "        # Inicialización de variables\n",
    "        numeroPrimo1 = 0\n",
    "        numeroPrimo2 = 0\n",
    "        \n",
    "        # Bucle para obtener dos números primos diferentes\n",
    "        while numeroPrimo1 == 0 or numeroPrimo2 == 0 or numeroPrimo1 == numeroPrimo2:\n",
    "            while numeroPrimo1 == 0:\n",
    "                rango1, rango2 = self.pedirRango()  # Pedir rango al usuario\n",
    "                numeroPrimo1 = self.buscarNumeroPrimo(rango1, rango2)  # Buscar número primo en el rango\n",
    "                if numeroPrimo1 == 0:\n",
    "                    print(\"No se encontró un número primo en el rango ingresado\")\n",
    "                else:\n",
    "                    print(\"El número primo encontrado es:\", numeroPrimo1)\n",
    "            \n",
    "            while numeroPrimo2 == 0:\n",
    "                rango1, rango2 = self.pedirRango()  # Pedir rango al usuario\n",
    "                numeroPrimo2 = self.buscarNumeroPrimo(rango1, rango2)  # Buscar número primo en el rango\n",
    "                if numeroPrimo2 == 0:\n",
    "                    print(\"No se encontró un número primo en el rango ingresado\")\n",
    "                else:\n",
    "                    print(\"El número primo encontrado es:\", numeroPrimo2)\n",
    "            \n",
    "            if numeroPrimo1 == numeroPrimo2:\n",
    "                print(\"Los números primos deben ser diferentes\")\n",
    "                numeroPrimo1 = 0\n",
    "                numeroPrimo2 = 0\n",
    "        \n",
    "        self.establecerClaves(numeroPrimo1, numeroPrimo2)  # Establecer claves pública y privada\n",
    "        print(\"Clave pública:\", self.e)\n",
    "        print(\"Clave privada:\", self.d)\n",
    "\n",
    "    def esPrimo(self, numero):\n",
    "        \"\"\"Verifica si un número es primo.\"\"\"\n",
    "        for i in range(2, numero):\n",
    "            if numero % i == 0:\n",
    "                return False\n",
    "        return True\n",
    "    \n",
    "    def buscarNumeroPrimo(self, rango1, rango2):\n",
    "        \"\"\"Busca un número primo en el rango especificado.\"\"\"\n",
    "        numeroPrimo = rango1\n",
    "        while not self.esPrimo(numeroPrimo) and numeroPrimo < rango2:\n",
    "            numeroPrimo += 1\n",
    "        if not self.esPrimo(numeroPrimo):\n",
    "            return 0\n",
    "        return numeroPrimo\n",
    "    \n",
    "    def mcd(self, a, b):\n",
    "        \"\"\"Calcula el máximo común divisor (MCD) de dos números.\"\"\"\n",
    "        resto = 0\n",
    "        while b > 0:\n",
    "            resto = b\n",
    "            b = a % b\n",
    "            a = resto\n",
    "        return a\n",
    "    \n",
    "    def establecerClaves(self, p, q):\n",
    "        \"\"\"Establece las claves pública y privada utilizando los números primos p y q.\"\"\"\n",
    "        self.n = p * q  # Producto de p y q\n",
    "        self.z = (p - 1) * (q - 1)  # Valor de Euler\n",
    "        self.e = self.generarE()  # Clave pública\n",
    "        self.d = self.generarD()  # Clave privada\n",
    "\n",
    "    def generarE(self):\n",
    "        \"\"\"Genera la clave pública 'e'.\"\"\"\n",
    "        e = 2\n",
    "        while e < self.z:\n",
    "            if self.mcd(e, self.z) == 1:\n",
    "                return e\n",
    "            e += 1\n",
    "\n",
    "    def generarD(self):\n",
    "        \"\"\"Genera la clave privada 'd'.\"\"\"\n",
    "        d = 2\n",
    "        while d < self.z:\n",
    "            if (d * self.e) % self.z == 1:\n",
    "                return d\n",
    "            d += 1\n",
    "\n",
    "    def pedirRango(self):\n",
    "        \"\"\"Solicita al usuario que ingrese el rango para buscar números primos.\"\"\"\n",
    "        rango1 = 0\n",
    "        rango2 = 0\n",
    "        while rango1 == 0 or rango1 == 1 or rango2 == 0 or rango2 == 1 or rango1 == 2 or rango2 == 2:\n",
    "            rango1 = int(input(\"Ingrese el número para comenzar a buscar un número primo: \"))\n",
    "            rango2 = int(input(\"Ingrese el número para terminar de buscar un número primo: \"))\n",
    "            if rango1 == 0 or rango2 == 0 or rango1 == 1 or rango2 == 1 or rango1 == 2 or rango2 == 2:\n",
    "                print(\"El rango debe ser mayor a 2\")\n",
    "            else:\n",
    "                print(\"El rango ingresado es válido\")\n",
    "        return rango1, rango2\n",
    "    \n",
    "    def encriptar(self, nombreArchivo):\n",
    "        \"\"\"Encripta el contenido de un archivo y lo guarda en otro archivo.\"\"\"\n",
    "        simbolos = (\"!@#$%^&*()_+):;'?/.>,<\\|=-\")\t\n",
    "        with open(nombreArchivo, \"r\") as archivo:\n",
    "            texto = archivo.read()\n",
    "        \n",
    "        with open(\"ArchivoEncriptado.txt\", \"w\") as archivo:\n",
    "            for caracter in texto:\n",
    "                encript = random.randrange(1, len(simbolos))\n",
    "                simbolo = simbolos[encript]\n",
    "                encriptado = pow(ord(caracter), self.e, self.n)\n",
    "                archivo.write(str(encriptado) + simbolo)\n",
    "        \n",
    "        print(\"El archivo se ha encriptado correctamente\")\n",
    "        print(\"El archivo encriptado se llama: ArchivoEncriptado.txt\")\n",
    "\n",
    "    def desencriptar(self, nombreArchivo):\n",
    "        \"\"\"Desencripta el contenido de un archivo encriptado y lo guarda en otro archivo.\"\"\"\n",
    "        simbolos = (\"!@#$%^&*()_+):;'?/.>,<\\|=-\")\n",
    "        with open(nombreArchivo, \"r\") as archivo:\n",
    "            texto_encriptado = archivo.read()\n",
    "            \n",
    "            numeros_encriptados = []\n",
    "            numero_actual = \"\"\n",
    "            for caracter in texto_encriptado:\n",
    "                if caracter in simbolos:\n",
    "                    if numero_actual:\n",
    "                        numeros_encriptados.append(numero_actual)\n",
    "                        numero_actual = \"\"\n",
    "                else:\n",
    "                    numero_actual += caracter\n",
    "            \n",
    "            mensaje_desencriptado = \"\"\n",
    "            for numero in numeros_encriptados:\n",
    "                desencriptado = pow(int(numero), self.d, self.n)\n",
    "                mensaje_desencriptado += chr(desencriptado)\n",
    "            \n",
    "            with open(\"ArchivoDesencriptado.txt\", \"w\") as archivo:\n",
    "                archivo.write(mensaje_desencriptado)\n",
    "\n",
    "\n",
    "rsa=RSA()\n",
    "rsa.encriptar(\"Archivo.txt\")\n",
    "rsa.desencriptar(\"ArchivoEncriptado.txt\")"
   ]
  }
 ],
 "metadata": {
  "kernelspec": {
   "display_name": "Python 3 (ipykernel)",
   "language": "python",
   "name": "python3"
  },
  "language_info": {
   "codemirror_mode": {
    "name": "ipython",
    "version": 3
   },
   "file_extension": ".py",
   "mimetype": "text/x-python",
   "name": "python",
   "nbconvert_exporter": "python",
   "pygments_lexer": "ipython3",
   "version": "3.11.0"
  }
 },
 "nbformat": 4,
 "nbformat_minor": 5
}
