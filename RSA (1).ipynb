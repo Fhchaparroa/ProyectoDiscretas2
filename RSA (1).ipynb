{
 "cells": [
  {
   "cell_type": "markdown",
   "id": "d967e9d1",
   "metadata": {},
   "source": [
    "## Materias y métodos  "
   ]
  },
  {
   "cell_type": "markdown",
   "id": "8ce83070",
   "metadata": {},
   "source": [
    "En primer lugar, creamos una clase llamada RSA para agrupar todos nuestros métodos y variables destinados a resolver el problema. En la función __init__, comenzamos por encontrar dos números primos dentro de un intervalo proporcionado por el usuario. Después de generar aleatoriamente estos dos números primos, procedemos a calcular las claves. Estas claves se guardan dentro de la clase RSA. La primera clave se obtiene multiplicando los dos números primos. A continuación, encontramos el inverso multiplicativo y generamos las demás claves utilizando las funciones generarE y generarD. Luego, hacemos uso de las funciones encriptar y desencriptar para trabajar con los archivos de texto que contienen las cadenas de texto encriptadas"
   ]
  },
  {
   "cell_type": "markdown",
   "id": "83e002af",
   "metadata": {},
   "source": [
    "### Metodos"
   ]
  },
  {
   "cell_type": "markdown",
   "id": "f77b180d",
   "metadata": {},
   "source": [
    "#### buscarNumeroPrimo"
   ]
  },
  {
   "cell_type": "markdown",
   "id": "c5394b54",
   "metadata": {},
   "source": [
    "El propósito de esta función es buscar un número primo dentro de un intervalo pasado como parámetro. Se utilizan dos variables, \"rango1\" y \"rango2\", que determinan el límite inferior y superior donde se buscará el número primo. Dentro de la función \"__buscarNumeroPrimo__\", se utiliza otra función llamada \"esPrimo\" para verificar si un número es primo. Si el número es primo, se le suma uno; en caso contrario, se retorna 0.\n",
    "\n",
    "\n",
    "\n",
    "\n"
   ]
  },
  {
   "cell_type": "code",
   "execution_count": null,
   "id": "9c676d78",
   "metadata": {},
   "outputs": [],
   "source": [
    "    def buscarNumeroPrimo(self, rango1, rango2):\n",
    "        numeroPrimo = rango1\n",
    "        while not self.esPrimo(numeroPrimo) and numeroPrimo<rango2:\n",
    "            numeroPrimo = numeroPrimo + 1\n",
    "        if self.esPrimo(numeroPrimo)==False:\n",
    "            return 0\n",
    "        return numeroPrimo\n",
    "        \n",
    "        \n",
    "        "
   ]
  },
  {
   "cell_type": "markdown",
   "id": "257f8bed",
   "metadata": {},
   "source": [
    "#### esPrimo"
   ]
  },
  {
   "cell_type": "markdown",
   "id": "18bcccfe",
   "metadata": {},
   "source": [
    "Esta función se encarga de verificar si un número es primo o no. Para hacerlo, se verifica si el número tiene algún divisor. Para ello, se utiliza un bucle \"for\" que comienza desde el número 2 y va hasta el número pasado como parámetro. Si el resto de la división es diferente de cero para algún valor del bucle, entonces el número no es primo y se retorna \"false\"."
   ]
  },
  {
   "cell_type": "code",
   "execution_count": null,
   "id": "fe995440",
   "metadata": {},
   "outputs": [],
   "source": [
    "def esPrimo(self, numero):\n",
    "        for i in range(2, numero):\n",
    "            if numero % i == 0:\n",
    "                return False\n",
    "        return True"
   ]
  },
  {
   "cell_type": "markdown",
   "id": "cbf58fec",
   "metadata": {},
   "source": [
    "#### mcd"
   ]
  },
  {
   "cell_type": "markdown",
   "id": "821e36ac",
   "metadata": {},
   "source": [
    "La función \"__mcd__\" calcula el mínimo común divisor de dos números. En esta función, se pasan los valores como parámetros y se realiza el cálculo obteniendo siempre el resto de la división entre \"a\" y \"b\". Luego, se asigna el valor del resto a \"b\" y el valor de \"b\" a \"a\".\n",
    "\n",
    "\n",
    "\n",
    "\n"
   ]
  },
  {
   "cell_type": "code",
   "execution_count": null,
   "id": "fb8d5420",
   "metadata": {},
   "outputs": [],
   "source": [
    "    def mcd(self, a, b):\n",
    "        resto = 0\n",
    "        while b > 0:\n",
    "            resto = b\n",
    "            b = a % b\n",
    "            a = resto\n",
    "        return a"
   ]
  },
  {
   "cell_type": "markdown",
   "id": "f5cdddfb",
   "metadata": {},
   "source": [
    "#### establecerClaves"
   ]
  },
  {
   "cell_type": "markdown",
   "id": "a57dbbd1",
   "metadata": {},
   "source": [
    "La función \"establecerClaves\" se encarga de calcular las claves utilizando los números primos generados. La clase RSA tiene las variables n, z, e y d, donde se almacenan los resultados de multiplicar los números primos y el producto de los primos menos uno ($(p - 1) * (q - 1)$). A continuación, se utilizan las funciones \"generarE\" y \"generarD\" para completar el proceso.\n",
    "\n",
    "\n",
    "\n",
    "\n"
   ]
  },
  {
   "cell_type": "code",
   "execution_count": null,
   "id": "6d92a971",
   "metadata": {},
   "outputs": [],
   "source": [
    "    def establecerClaves(self, p, q):\n",
    "        self.n = p * q\n",
    "        self.z = (p - 1) * (q - 1)\n",
    "        self.e = self.generarE()\n",
    "        self.d = self.generarD()"
   ]
  },
  {
   "cell_type": "markdown",
   "id": "5bc7fa64",
   "metadata": {},
   "source": [
    "#### generarE"
   ]
  },
  {
   "cell_type": "markdown",
   "id": "d111de1e",
   "metadata": {},
   "source": [
    "La función \"generarE\" se encarga de calcular el valor de la variable e, que se utiliza en el proceso de encriptado. En esta función, se busca el máximo común divisor (mcd) entre el producto ($(p - 1) * (q - 1)$) y un número determinado, en este caso, 2.\n",
    "\n",
    "\n",
    "\n",
    "\n"
   ]
  },
  {
   "cell_type": "code",
   "execution_count": null,
   "id": "7b88cda9",
   "metadata": {},
   "outputs": [],
   "source": [
    "    def generarE(self):\n",
    "        e = 2\n",
    "        while e < self.z:\n",
    "            if self.mcd(e, self.z) == 1:\n",
    "                return e\n",
    "            e += 1"
   ]
  },
  {
   "cell_type": "markdown",
   "id": "8a79f4b6",
   "metadata": {},
   "source": [
    "#### generarD"
   ]
  },
  {
   "cell_type": "markdown",
   "id": "ebf5ce69",
   "metadata": {},
   "source": [
    "La función \"generarD\" se encarga de generar la variable \"d\" utilizando la siguiente fórmula: $(d * e) \\div z = 1$. La función calcula el valor de \"d\" de manera que al multiplicarlo por \"e\" y dividirlo por \"z\", se obtenga el resultado de 1. Luego, la función retorna el valor de \"d\".\n",
    "\n",
    "\n",
    "\n",
    "\n"
   ]
  },
  {
   "cell_type": "code",
   "execution_count": null,
   "id": "d0a554ab",
   "metadata": {},
   "outputs": [],
   "source": [
    "    def generarD(self):\n",
    "        d = 2\n",
    "        while d < self.z:\n",
    "            if (d * self.e) % self.z == 1:\n",
    "                return d\n",
    "            d += 1"
   ]
  },
  {
   "cell_type": "markdown",
   "id": "58968b92",
   "metadata": {},
   "source": [
    "#### pedirRango"
   ]
  },
  {
   "cell_type": "markdown",
   "id": "3ee13874",
   "metadata": {},
   "source": [
    "La función \"pedirRango\" se encarga de solicitar un rango al usuario mediante la entrada de datos.\n",
    "\n",
    "\n",
    "\n",
    "\n"
   ]
  },
  {
   "cell_type": "code",
   "execution_count": null,
   "id": "64bf0d3b",
   "metadata": {},
   "outputs": [],
   "source": [
    "    def pedirRango(self):\n",
    "        rango1=0\n",
    "        rango2=0\n",
    "        while rango1==0 or rango1==1 or rango2==0  or rango2==1:\n",
    "            rango1=int(input(\"Ingrese el numero a comenzar a buscar un número primo: \"))\n",
    "            rango2=int(input(\"Ingrese el numero a terminar de buscar un número primo: \"))\n",
    "            if rango1==0 or rango2==0 or rango1==1 or rango2==1:\n",
    "                print(\"El rango debe comenzar o terminar en un numero mayor a 1\")\n",
    "            else:\n",
    "                print(\"El rango ingresado es válido\")\n",
    "        return rango1, rango2"
   ]
  },
  {
   "cell_type": "markdown",
   "id": "8e6e770e",
   "metadata": {},
   "source": [
    "#### encriptar"
   ]
  },
  {
   "cell_type": "markdown",
   "id": "19fcafd2",
   "metadata": {},
   "source": [
    "La función \"encriptar\" se encarga de tomar una línea de texto del archivo y convertirla en un número menor que la clave pública. Luego, calcula el texto cifrado utilizando la operación de módulo: $c \\equiv m^e \\pmod{n}$.\n",
    "\n",
    "\n",
    "\n",
    "\n"
   ]
  },
  {
   "cell_type": "code",
   "execution_count": null,
   "id": "af353971",
   "metadata": {},
   "outputs": [],
   "source": [
    "    def encriptar(self, nombreArchivo):\n",
    "        with open(nombreArchivo, \"rb\") as archivo:\n",
    "            bytesTexto = archivo.read()\n",
    "        enteroTexto = int.from_bytes(bytesTexto, 'big')\n",
    "        if enteroTexto >= self.n:\n",
    "            print(\"El archivo es demasiado grande para ser encriptado con las claves actuales.\")\n",
    "            return\n",
    "        encriptado = pow(enteroTexto, self.e, self.n)\n",
    "        bytesEncriptado = encriptado.to_bytes((encriptado.bit_length() + 7) // 8, 'big')\n",
    "        with open(\"ArchivoEncriptado.txt\", \"wb\") as archivo:\n",
    "            archivo.write(bytesEncriptado)\n",
    "        print(\"El archivo se ha encriptado correctamente\")\n",
    "        print(\"El archivo encriptado se llama: ArchivoEncriptado.txt\")"
   ]
  },
  {
   "cell_type": "markdown",
   "id": "eed91b91",
   "metadata": {},
   "source": [
    "#### desencriptar\n"
   ]
  },
  {
   "cell_type": "markdown",
   "id": "7ec94248",
   "metadata": {},
   "source": [
    "La función \"desencriptar\" se encarga de recuperar el mensaje a partir del texto cifrado utilizando el exponente \"d\" de la clave privada. Esto se logra mediante el siguiente cálculo: $m \\equiv c^d \\pmod{n}$.\n",
    "\n",
    "\n",
    "\n",
    "\n"
   ]
  },
  {
   "cell_type": "code",
   "execution_count": null,
   "id": "a8b625fe",
   "metadata": {},
   "outputs": [],
   "source": [
    "    def desencriptar(self, nombreArchivo):\n",
    "        with open(nombreArchivo, \"rb\") as archivo:\n",
    "            bytesEncriptado = archivo.read()\n",
    "        enteroEncriptado = int.from_bytes(bytesEncriptado, 'big')\n",
    "        desencriptado = pow(enteroEncriptado, self.d, self.n)\n",
    "        bytesDesencriptado = desencriptado.to_bytes((desencriptado.bit_length() + 7) // 8, 'big')\n",
    "        with open(\"ArchivoDesencriptado.txt\", \"wb\") as archivo:\n",
    "            archivo.write(bytesDesencriptado)\n",
    "        print(\"El archivo se ha desencriptado correctamente\")"
   ]
  },
  {
   "cell_type": "code",
   "execution_count": null,
   "id": "c021d079",
   "metadata": {},
   "outputs": [],
   "source": [
    "class RSA:\n",
    "    def __init__(self):\n",
    "        numeroPrimo1=0\n",
    "        numeroPrimo2=0\n",
    "        numeroPrimo1 = self.buscarNumeroPrimo(10000, 20000)\n",
    "        numeroPrimo2 = self.buscarNumeroPrimo(50000, 80000)\n",
    "        while numeroPrimo1==0 or numeroPrimo2==0 or numeroPrimo1==numeroPrimo2:\n",
    "            while numeroPrimo1==0:\n",
    "                rango1, rango2=self.pedirRango()\n",
    "                numeroPrimo1=self.buscarNumeroPrimo(rango1, rango2)\n",
    "                if numeroPrimo1==0:\n",
    "                    print(\"No se encontró un número primo en el rango ingresado\")\n",
    "                else:\n",
    "                    print(\"El número primo encontrado es: \", numeroPrimo1)\n",
    "            while numeroPrimo2==0:\n",
    "                rango1, rango2=self.pedirRango()\n",
    "                numeroPrimo2=self.buscarNumeroPrimo(rango1, rango2)\n",
    "                if numeroPrimo2==0:\n",
    "                    print(\"No se encontró un número primo en el rango ingresado\")\n",
    "                else:\n",
    "                    print(\"El número primo encontrado es: \", numeroPrimo2)\n",
    "            if numeroPrimo1==numeroPrimo2:\n",
    "                print(\"Los números primos deben ser diferentes\")\n",
    "                numeroPrimo1=0\n",
    "                numeroPrimo2=0\n",
    "        self.establecerClaves(numeroPrimo1, numeroPrimo2)\n",
    "        print(\"Clave publica: \",self.e)\n",
    "        print(\"Clave privada: \",self.d)\n",
    "\n",
    "    def esPrimo(self, numero):\n",
    "        for i in range(2, numero):\n",
    "            if numero % i == 0:\n",
    "                return False\n",
    "        return True\n",
    "    \n",
    "    def buscarNumeroPrimo(self, rango1, rango2):\n",
    "        numeroPrimo = rango1\n",
    "        while not self.esPrimo(numeroPrimo) and numeroPrimo<rango2:\n",
    "            numeroPrimo = numeroPrimo + 1\n",
    "        if self.esPrimo(numeroPrimo)==False:\n",
    "            return 0\n",
    "        return numeroPrimo\n",
    "    \n",
    "    def mcd(self, a, b):\n",
    "        resto = 0\n",
    "        while b > 0:\n",
    "            resto = b\n",
    "            b = a % b\n",
    "            a = resto\n",
    "        return a\n",
    "    \n",
    "    def establecerClaves(self, p, q):\n",
    "        self.n = p * q\n",
    "        self.z = (p - 1) * (q - 1)\n",
    "        self.e = self.generarE()\n",
    "        self.d = self.generarD()\n",
    "\n",
    "    def generarE(self):\n",
    "        e = 2\n",
    "        while e < self.z:\n",
    "            if self.mcd(e, self.z) == 1:\n",
    "                return e\n",
    "            e += 1\n",
    "\n",
    "    def generarD(self):\n",
    "        d = 2\n",
    "        while d < self.z:\n",
    "            if (d * self.e) % self.z == 1:\n",
    "                return d\n",
    "            d += 1\n",
    "\n",
    "    def pedirRango(self):\n",
    "        rango1=0\n",
    "        rango2=0\n",
    "        while rango1==0 or rango1==1 or rango2==0  or rango2==1:\n",
    "            rango1=int(input(\"Ingrese el numero a comenzar a buscar un número primo: \"))\n",
    "            rango2=int(input(\"Ingrese el numero a terminar de buscar un número primo: \"))\n",
    "            if rango1==0 or rango2==0 or rango1==1 or rango2==1:\n",
    "                print(\"El rango debe comenzar o terminar en un numero mayor a 1\")\n",
    "            else:\n",
    "                print(\"El rango ingresado es válido\")\n",
    "        return rango1, rango2\n",
    "    \n",
    "    def encriptar(self, nombreArchivo):\n",
    "        with open(nombreArchivo, \"rb\") as archivo:\n",
    "            bytesTexto = archivo.read()\n",
    "        enteroTexto = int.from_bytes(bytesTexto, 'big')\n",
    "        if enteroTexto >= self.n:\n",
    "            print(\"El archivo es demasiado grande para ser encriptado con las claves actuales.\")\n",
    "            return\n",
    "        encriptado = pow(enteroTexto, self.e, self.n)\n",
    "        bytesEncriptado = encriptado.to_bytes((encriptado.bit_length() + 7) // 8, 'big')\n",
    "        with open(\"ArchivoEncriptado.txt\", \"wb\") as archivo:\n",
    "            archivo.write(bytesEncriptado)\n",
    "        print(\"El archivo se ha encriptado correctamente\")\n",
    "        print(\"El archivo encriptado se llama: ArchivoEncriptado.txt\")\n",
    "\n",
    "    def desencriptar(self, nombreArchivo):\n",
    "        with open(nombreArchivo, \"rb\") as archivo:\n",
    "            bytesEncriptado = archivo.read()\n",
    "        enteroEncriptado = int.from_bytes(bytesEncriptado, 'big')\n",
    "        desencriptado = pow(enteroEncriptado, self.d, self.n)\n",
    "        bytesDesencriptado = desencriptado.to_bytes((desencriptado.bit_length() + 7) // 8, 'big')\n",
    "        with open(\"ArchivoDesencriptado.txt\", \"wb\") as archivo:\n",
    "            archivo.write(bytesDesencriptado)\n",
    "        print(\"El archivo se ha desencriptado correctamente\")\n",
    "\n",
    "\n",
    "rsa=RSA()\n",
    "rsa.encriptar(\"Archivo.txt\")\n",
    "rsa.desencriptar(\"ArchivoEncriptado.txt\")"
   ]
  }
 ],
 "metadata": {
  "kernelspec": {
   "display_name": "Python 3 (ipykernel)",
   "language": "python",
   "name": "python3"
  },
  "language_info": {
   "codemirror_mode": {
    "name": "ipython",
    "version": 3
   },
   "file_extension": ".py",
   "mimetype": "text/x-python",
   "name": "python",
   "nbconvert_exporter": "python",
   "pygments_lexer": "ipython3",
   "version": "3.9.13"
  }
 },
 "nbformat": 4,
 "nbformat_minor": 5
}
