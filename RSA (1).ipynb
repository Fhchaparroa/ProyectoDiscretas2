{
 "cells": [
  {
   "cell_type": "markdown",
   "id": "dc81f4af",
   "metadata": {},
   "source": [
    "## Proyecto Final - Matemáticas Discretas II 2023-1 G2\n",
    "\n",
    "Autores:$\\newline$ Fabián Humberto Chaparro Aguilera $\\newline$\n",
    "         Sebastián Ortiz González $\\newline$\n",
    "         Fernando Novoa Salazar $\\newline$\n",
    "         Daniel Felipe Ahumada Hernández$\\newline$\n",
    "         \n",
    "Link al video: "
   ]
  },
  {
   "cell_type": "markdown",
   "id": "e6d37af5",
   "metadata": {},
   "source": [
    "## Introducción y motivación"
   ]
  },
  {
   "cell_type": "markdown",
   "id": "874f525f",
   "metadata": {},
   "source": [
    "El presente proyecto tiene como objetivo implementar el algoritmo de encriptación y desencriptación RSA utilizando Python. El algoritmo RSA es utilizado en la criptografía moderna debido a su eficacia y seguridad en la protección de datos confidenciales, lo que lo hace una herramienta popular y confiable en esta área.\n",
    "\n",
    "La motivación detrás de este proyecto radica principalmente en lo llamativo que nos resultó el estudio de los números primos y sus propiedades durante el curso, de entre los demás temas. La forma en la que los primos se relacionan con la importancia de garantizar la confidencialidad de la información en los entornos digitales y en los sistemas de cómputo interconectados. Con el crecimiento actual de la comunicación electrónica y el intercambio de datos sensibles, resulta fundamental contar con mecanismos de encriptación robustos que protejan la privacidad y eviten el acceso no autorizado a la información.\n",
    "\n",
    "El algoritmo RSA es especialmente relevante en esta era digital, ya que se basa en la dificultad computacional de factorizar números primos grandes en sus factores primos, lo que lo hace altamente seguro frente a ataques de fuerza bruta. Además, la particularidad de este algoritmo es su enfoque de clave pública, que proporciona una forma segura de intercambiar información confidencial sin necesidad de compartir la clave de desencriptación. Se puede usar en diversos escenarios, como el intercambio seguro de mensajes en línea, el almacenamiento seguro de archivos y la protección de datos sensibles en entornos empresariales. \n",
    "\n",
    "En este proyecto, se ha desarrollado un código en Python que implementa el algoritmo RSA. La clase RSA creada agrupa todos los métodos necesarios para resolver el problema, incluyendo la generación de claves públicas y privadas, la encriptación y desencriptación de archivos de texto.\n",
    "\n",
    "Con el código desarrollado, es posible encriptar y desencriptar archivos de texto de manera sencilla y confiable, garantizando la privacidad y la integridad de la información transmitida o almacenada."
   ]
  },
  {
   "cell_type": "markdown",
   "id": "d967e9d1",
   "metadata": {},
   "source": [
    "## Materiales y metodos  "
   ]
  },
  {
   "cell_type": "markdown",
   "id": "f6f0b672",
   "metadata": {},
   "source": [
    "#### Clase RSA:"
   ]
  },
  {
   "cell_type": "markdown",
   "id": "8ce83070",
   "metadata": {},
   "source": [
    "En primer lugar, creamos una clase llamada RSA para agrupar todos nuestros métodos y variables destinados a resolver el problema. Iniciamos importando la libreria random para generar aleatoriamente ciertos simbolos a la hora de importar. En el método __init__, comenzamos por encontrar dos números primos dentro de un intervalo proporcionado por el usuario. Después de generar aleatoriamente estos dos números primos, procedemos a calcular las claves. Estas claves se guardan dentro de la clase RSA. La primera clave se obtiene multiplicando los dos números primos. A continuación, encontramos el inverso multiplicativo y generamos las demás claves utilizando las funciones generarE y generarD. Luego, hacemos uso de las funciones encriptar y desencriptar para trabajar con los archivos de texto que contienen las cadenas de texto encriptadas."
   ]
  },
  {
   "cell_type": "code",
   "execution_count": 1,
   "id": "5b3e585c",
   "metadata": {},
   "outputs": [],
   "source": [
    "import random\n",
    "\n",
    "class RSA:\n",
    "    def __init__(self):\n",
    "        # Inicialización de variables\n",
    "        numeroPrimo1 = 0\n",
    "        numeroPrimo2 = 0\n",
    "        \n",
    "        # Bucle para obtener dos números primos diferentes\n",
    "        while numeroPrimo1 == 0 or numeroPrimo2 == 0 or numeroPrimo1 == numeroPrimo2:\n",
    "            while numeroPrimo1 == 0:\n",
    "                rango1, rango2 = self.pedirRango()  # Pedir rango al usuario\n",
    "                numeroPrimo1 = self.buscarNumeroPrimo(rango1, rango2)  # Buscar número primo en el rango\n",
    "                if numeroPrimo1 == 0:\n",
    "                    print(\"No se encontró un número primo en el rango ingresado\")\n",
    "                else:\n",
    "                    print(\"El número primo encontrado es:\", numeroPrimo1)\n",
    "            \n",
    "            while numeroPrimo2 == 0:\n",
    "                rango1, rango2 = self.pedirRango()  # Pedir rango al usuario\n",
    "                numeroPrimo2 = self.buscarNumeroPrimo(rango1, rango2)  # Buscar número primo en el rango\n",
    "                if numeroPrimo2 == 0:\n",
    "                    print(\"No se encontró un número primo en el rango ingresado\")\n",
    "                else:\n",
    "                    print(\"El número primo encontrado es:\", numeroPrimo2)\n",
    "            \n",
    "            if numeroPrimo1 == numeroPrimo2:\n",
    "                print(\"Los números primos deben ser diferentes\")\n",
    "                numeroPrimo1 = 0\n",
    "                numeroPrimo2 = 0\n",
    "        \n",
    "        self.establecerClaves(numeroPrimo1, numeroPrimo2)  # Establecer claves pública y privada\n",
    "        print(\"Clave pública:\", self.e)\n",
    "        print(\"Clave privada:\", self.d)"
   ]
  },
  {
   "cell_type": "markdown",
   "id": "f77b180d",
   "metadata": {},
   "source": [
    "#### buscarNumeroPrimo"
   ]
  },
  {
   "cell_type": "markdown",
   "id": "c5394b54",
   "metadata": {},
   "source": [
    "El propósito de esta función es buscar un número primo dentro de un intervalo pasado como parámetro. Se utilizan dos variables, \"rango1\" y \"rango2\", que determinan el límite inferior y superior donde se buscará el número primo. Dentro de la función \"__buscarNumeroPrimo__\", se utiliza otra función llamada \"esPrimo\" para verificar si un número es primo. Si el número es primo, se le suma uno; en caso contrario, se retorna 0.\n",
    "\n",
    "\n",
    "\n",
    "\n"
   ]
  },
  {
   "cell_type": "code",
   "execution_count": 2,
   "id": "9c676d78",
   "metadata": {},
   "outputs": [],
   "source": [
    "    def buscarNumeroPrimo(self, rango1, rango2):\n",
    "        \"\"\"Busca un número primo en el rango especificado.\"\"\"\n",
    "        numeroPrimo = rango1\n",
    "        while not self.esPrimo(numeroPrimo) and numeroPrimo < rango2:\n",
    "            numeroPrimo += 1\n",
    "        if not self.esPrimo(numeroPrimo):\n",
    "            return 0\n",
    "        return numeroPrimo"
   ]
  },
  {
   "cell_type": "markdown",
   "id": "257f8bed",
   "metadata": {},
   "source": [
    "#### esPrimo"
   ]
  },
  {
   "cell_type": "markdown",
   "id": "18bcccfe",
   "metadata": {},
   "source": [
    "Esta función se encarga de verificar si un número es primo o no. Para hacerlo, se verifica si el número tiene algún divisor. Para ello, se utiliza un bucle \"for\" que comienza desde el número 2 y va hasta el número pasado como parámetro. Si el resto de la división es diferente de cero para algún valor del bucle, entonces el número no es primo y se retorna \"false\"."
   ]
  },
  {
   "cell_type": "code",
   "execution_count": 3,
   "id": "fe995440",
   "metadata": {},
   "outputs": [],
   "source": [
    "    def esPrimo(self, numero):\n",
    "        \"\"\"Verifica si un número es primo.\"\"\"\n",
    "        for i in range(2, numero):\n",
    "            if numero % i == 0:\n",
    "                return False\n",
    "        return True"
   ]
  },
  {
   "cell_type": "markdown",
   "id": "cbf58fec",
   "metadata": {},
   "source": [
    "#### mcd"
   ]
  },
  {
   "cell_type": "markdown",
   "id": "821e36ac",
   "metadata": {},
   "source": [
    "La función \"__mcd__\" calcula el mínimo común divisor de dos números. En esta función, se pasan los valores como parámetros y se realiza el cálculo obteniendo siempre el resto de la división entre \"a\" y \"b\". Luego, se asigna el valor del resto a \"b\" y el valor de \"b\" a \"a\".\n",
    "\n",
    "\n",
    "\n",
    "\n"
   ]
  },
  {
   "cell_type": "code",
   "execution_count": 4,
   "id": "fb8d5420",
   "metadata": {},
   "outputs": [],
   "source": [
    "def mcd(self, a, b):\n",
    "        \"\"\"Calcula el máximo común divisor (MCD) de dos números.\"\"\"\n",
    "        resto = 0\n",
    "        while b > 0:\n",
    "            resto = b\n",
    "            b = a % b\n",
    "            a = resto\n",
    "        return a"
   ]
  },
  {
   "cell_type": "markdown",
   "id": "f5cdddfb",
   "metadata": {},
   "source": [
    "#### establecerClaves"
   ]
  },
  {
   "cell_type": "markdown",
   "id": "a57dbbd1",
   "metadata": {},
   "source": [
    "La función \"establecerClaves\" se encarga de calcular las claves utilizando los números primos generados. La clase RSA tiene las variables n, z, e y d, donde se almacenan los resultados de multiplicar los números primos y el producto de los primos menos uno ($(p - 1) * (q - 1)$). A continuación, se utilizan las funciones \"generarE\" y \"generarD\" para completar el proceso.\n",
    "\n",
    "\n",
    "\n",
    "\n"
   ]
  },
  {
   "cell_type": "code",
   "execution_count": 5,
   "id": "6d92a971",
   "metadata": {},
   "outputs": [],
   "source": [
    "    def establecerClaves(self, p, q):\n",
    "        \"\"\"Establece las claves pública y privada utilizando los números primos p y q.\"\"\"\n",
    "        self.n = p * q  # Producto de p y q\n",
    "        self.z = (p - 1) * (q - 1)  # Valor de Euler\n",
    "        self.e = self.generarE()  # Clave pública\n",
    "        self.d = self.generarD()  # Clave privada"
   ]
  },
  {
   "cell_type": "markdown",
   "id": "5bc7fa64",
   "metadata": {},
   "source": [
    "#### generarE"
   ]
  },
  {
   "cell_type": "markdown",
   "id": "d111de1e",
   "metadata": {},
   "source": [
    "La función \"generarE\" se encarga de calcular el valor de la variable e, que se utiliza en el proceso de encriptado. En esta función, se busca el máximo común divisor (mcd) entre el producto ($(p - 1) * (q - 1)$) y un número determinado, en este caso, 2.\n",
    "\n",
    "\n",
    "\n",
    "\n"
   ]
  },
  {
   "cell_type": "code",
   "execution_count": 6,
   "id": "7b88cda9",
   "metadata": {},
   "outputs": [],
   "source": [
    "    def generarE(self):\n",
    "        \"\"\"Genera la clave pública 'e'.\"\"\"\n",
    "        e = 2\n",
    "        while e < self.z:\n",
    "            if self.mcd(e, self.z) == 1:\n",
    "                return e\n",
    "            e += 1"
   ]
  },
  {
   "cell_type": "markdown",
   "id": "8a79f4b6",
   "metadata": {},
   "source": [
    "#### generarD"
   ]
  },
  {
   "cell_type": "markdown",
   "id": "ebf5ce69",
   "metadata": {},
   "source": [
    "La función \"generarD\" se encarga de generar la variable \"d\" utilizando la siguiente fórmula: $(d \\cdot e) \\div z = 1$. La función calcula el valor de \"d\" de manera que al multiplicarlo por \"e\" y dividirlo por \"z\", se obtenga el resultado de 1. Luego, la función retorna el valor de \"d\".\n",
    "\n",
    "\n",
    "\n",
    "\n"
   ]
  },
  {
   "cell_type": "code",
   "execution_count": 7,
   "id": "d0a554ab",
   "metadata": {},
   "outputs": [],
   "source": [
    "    def generarD(self):\n",
    "        \"\"\"Genera la clave privada 'd'.\"\"\"\n",
    "        d = 2\n",
    "        while d < self.z:\n",
    "            if (d * self.e) % self.z == 1:\n",
    "                return d\n",
    "            d += 1"
   ]
  },
  {
   "cell_type": "markdown",
   "id": "58968b92",
   "metadata": {},
   "source": [
    "#### pedirRango"
   ]
  },
  {
   "cell_type": "markdown",
   "id": "3ee13874",
   "metadata": {},
   "source": [
    "La función \"pedirRango\" se encarga de solicitar un rango al usuario mediante la entrada de datos.\n",
    "\n",
    "\n",
    "\n",
    "\n"
   ]
  },
  {
   "cell_type": "code",
   "execution_count": 8,
   "id": "64bf0d3b",
   "metadata": {},
   "outputs": [],
   "source": [
    "    def pedirRango(self):\n",
    "        \"\"\"Solicita al usuario que ingrese el rango para buscar números primos.\"\"\"\n",
    "        rango1 = 0\n",
    "        rango2 = 0\n",
    "        while rango1 == 0 or rango1 == 1 or rango2 == 0 or rango2 == 1 or rango1 == 2 or rango2 == 2:\n",
    "            rango1 = int(input(\"Ingrese el número para comenzar a buscar un número primo: \"))\n",
    "            rango2 = int(input(\"Ingrese el número para terminar de buscar un número primo: \"))\n",
    "            if rango1 == 0 or rango2 == 0 or rango1 == 1 or rango2 == 1 or rango1 == 2 or rango2 == 2:\n",
    "                print(\"El rango debe ser mayor a 2\")\n",
    "            else:\n",
    "                print(\"El rango ingresado es válido\")\n",
    "        return rango1, rango2"
   ]
  },
  {
   "cell_type": "markdown",
   "id": "8e6e770e",
   "metadata": {},
   "source": [
    "#### encriptar"
   ]
  },
  {
   "cell_type": "markdown",
   "id": "19fcafd2",
   "metadata": {},
   "source": [
    "La función \"encriptar\" se encarga de tomar una línea de texto del archivo y convertirla en un número menor que la clave pública. Luego, calcula el texto cifrado utilizando la operación de módulo: $c \\equiv m^e \\pmod{n}$.\n",
    "\n",
    "\n",
    "\n",
    "\n"
   ]
  },
  {
   "cell_type": "code",
   "execution_count": 9,
   "id": "af353971",
   "metadata": {},
   "outputs": [],
   "source": [
    "    def encriptar(self, nombreArchivo):\n",
    "        \"\"\"Encripta el contenido de un archivo y lo guarda en otro archivo.\"\"\"\n",
    "        simbolos = (\"!@#$%^&*()_+):;'?/.>,<\\|=-\")\t\n",
    "        with open(nombreArchivo, \"r\") as archivo:\n",
    "            texto = archivo.read()\n",
    "        \n",
    "        with open(\"ArchivoEncriptado.txt\", \"w\") as archivo:\n",
    "            for caracter in texto:\n",
    "                encript = random.randrange(1, len(simbolos))\n",
    "                simbolo = simbolos[encript]\n",
    "                encriptado = pow(ord(caracter), self.e, self.n)\n",
    "                archivo.write(str(encriptado) + simbolo)\n",
    "        \n",
    "        print(\"El archivo se ha encriptado correctamente\")\n",
    "        print(\"El archivo encriptado se llama: ArchivoEncriptado.txt\")"
   ]
  },
  {
   "cell_type": "markdown",
   "id": "eed91b91",
   "metadata": {},
   "source": [
    "#### desencriptar\n"
   ]
  },
  {
   "cell_type": "markdown",
   "id": "7ec94248",
   "metadata": {},
   "source": [
    "La función \"desencriptar\" se encarga de recuperar el mensaje a partir del texto cifrado utilizando el exponente \"d\" de la clave privada. Esto se logra mediante el siguiente cálculo: $m \\equiv c^d \\pmod{n}$.\n",
    "\n",
    "\n",
    "\n",
    "\n"
   ]
  },
  {
   "cell_type": "code",
   "execution_count": 10,
   "id": "a8b625fe",
   "metadata": {},
   "outputs": [],
   "source": [
    "    def desencriptar(self, nombreArchivo):\n",
    "        \"\"\"Desencripta el contenido de un archivo encriptado y lo guarda en otro archivo.\"\"\"\n",
    "        simbolos = (\"!@#$%^&*()_+):;'?/.>,<\\|=-\")\n",
    "        with open(nombreArchivo, \"r\") as archivo:\n",
    "            texto_encriptado = archivo.read()\n",
    "            \n",
    "            numeros_encriptados = []\n",
    "            numero_actual = \"\"\n",
    "            for caracter in texto_encriptado:\n",
    "                if caracter in simbolos:\n",
    "                    if numero_actual:\n",
    "                        numeros_encriptados.append(numero_actual)\n",
    "                        numero_actual = \"\"\n",
    "                else:\n",
    "                    numero_actual += caracter\n",
    "            \n",
    "            mensaje_desencriptado = \"\"\n",
    "            for numero in numeros_encriptados:\n",
    "                desencriptado = pow(int(numero), self.d, self.n)\n",
    "                mensaje_desencriptado += chr(desencriptado)\n",
    "            \n",
    "            with open(\"ArchivoDesencriptado.txt\", \"w\") as archivo:\n",
    "                archivo.write(mensaje_desencriptado)"
   ]
  },
  {
   "cell_type": "markdown",
   "id": "c0d7d868",
   "metadata": {},
   "source": [
    "## Resultados"
   ]
  },
  {
   "cell_type": "markdown",
   "id": "4e96ef2e",
   "metadata": {},
   "source": [
    "El modelo propuesto genera los siguientes resultados: $\\newline$\n",
    "Inicialmente se le pedirá al usuario un primer rango de números del cual se obtendrá un número primo, para este tomaremos como ejemplo 1000 y 2000, primer número encontrado es 1009. A continuación se le pedirá al usuario un segundo rango, como ejemplo tomaremos 5000 y 7000, el siguiente número encontrado es 5003. Cabe recalcar que entre más grandes sean los números primos que se escojan, la encriptación será mejor y más dura de descifrar. Con base en estos números el programa generará la llave privada y la llave publica:$\\newline$\n",
    "Llave publica: 5$\\newline$\n",
    "Llave privada: 4033613$\\newline$\n",
    "Teniendo en cuenta las llaves, ya es posible encriptar y desencriptar cadenas de texto mediante los métodos implementados, a continuación encriptaremos la siguiente cadena con el método \"encriptar\", generando así un .txt con la cadena ya encriptada:$\\newline$\n",
    "\"Hola, este es un mensaje de prueba para encriptar con nuestro algoritmo RSA implementado para la clase de Matematicas Discretas II.\"$\\newline$\n",
    "El mensaje encriptado quedo de la siguiente manera:$\\newline$\n",
    "\"1523291.267425?3522198:646330:3379360<3266270=108287<2232307<3624256<108287&3266270&108287&2232307.3266270899096,1893870+3266270.4901280#108287)18938702232307(646330>4984226=108287_3266270(4906540@108287:3266270.754575|970846|899096(108287+3239638%646330+3266270,754575&646330970846#646330_3266270)108287;1893870(4465658>970846<1403369+754575$3624256/646330@970846=3266270(4465658.267425^1893870_3266270,1893870&899096.108287/2232307:3624256970846<267425#3266270|646330%3522198'2470751_267425|970846+1403369.3624256@4901280|267425.3266270/2146614=1579583_4292442?3266270?1403369)4901280+754575_3522198(108287#4901280$108287+1893870%3624256&646330;4906540)267425,3266270?754575,646330.970846?646330)3266270#3522198#646330>3266270.4465658@3522198*646330,2232307>108287/3266270-4906540^108287,3266270?1041685>646330(3624256?108287)4901280:646330-3624256+1403369@4465658|646330@2232307'3266270*101792/1403369+2232307/4465658>970846%108287:3624256\\646330.2232307/3266270-3380523'3380523|4041896<\"$\\newline$\n",
    "A continuación, lo que se hace es desencriptar el mensaje utilizando el método \"desencriptar\", retornando así en un archivo .txt el mensaje desencriptado.\n",
    "\n",
    "Ver Video Adjunto para entender mejor.\n"
   ]
  },
  {
   "cell_type": "markdown",
   "id": "bcacf5f0",
   "metadata": {},
   "source": [
    "## Conclusiones"
   ]
  },
  {
   "cell_type": "markdown",
   "id": "8bd4378c",
   "metadata": {},
   "source": [
    "El código está organizado en una clase llamada RSA, lo que permite agrupar lógicamente todos los métodos y variables relacionados con el algoritmo RSA. Esto favorece la modularidad y el encapsulamiento, ya que todas las operaciones relacionadas con RSA están contenidas en una sola entidad.\n",
    "\n",
    "El proyecto se encarga de generar aleatoriamente dos números primos y calcular las claves pública y privada utilizando estos números. Esta generación aleatoria contribuye a la seguridad del sistema, ya que se evita la previsibilidad de las claves y se dificulta el descifrado sin la clave privada correspondiente.\n",
    "\n",
    "El algoritmo RSA, en su implementación actual, tiene un tiempo de ejecución que depende de la magnitud de los números primos utilizados. La búsqueda de números primos puede llevar tiempo, especialmente si el rango especificado por el usuario es amplio. No obstante, el código muestra una optimización al usar la función \"esPrimo\" para verificar si un número es primo. Aunque esta función no es la más eficiente para números grandes, es suficiente para el propósito de este proyecto.\n",
    "\n",
    "El código ofrece la capacidad de encriptar y desencriptar archivos de texto. Esto demuestra la utilidad práctica del algoritmo RSA en la protección de datos confidenciales almacenados en archivos. La encriptación se realiza mediante la conversión de caracteres en números enteros y la aplicación de la fórmula RSA, mientras que la desencriptación invierte este proceso para obtener el mensaje original.\n",
    "\n",
    "El código interactúa con el usuario para obtener datos como el rango para buscar números primos y los nombres de los archivos a encriptar y desencriptar. Esto facilita la utilización del programa y permite una experiencia más amigable para el usuario.\n",
    "\n",
    "Se puede implementar un paso extra en el algoritmo de encriptación que añada simbolos y/o caracteres adicionales al archivo encriptado con el fin de brindar mayor seguridad se presente el caso de que un tercero trate de descifrarlas de forma bruta.\n",
    "\n",
    "Aunque la selección del rango de los primos es dejado a la selección del usuario, es muy recomendable escoger un rango como minimo de 5 dígitos para cada número, primero, por razones de seguridad, con el fin de que no descifren fácilmente el valor de las llaves, y la segunda, para que se corra un menor riesgo de que los datos se corrompan y el archivo no se pueda descifrar correctamente debido a que hay muchas colisiones, o en otras palabras, hay muchos valores iguales para diferentes caracteres diferentes al encriptar el archivo."
   ]
  }
 ],
 "metadata": {
  "kernelspec": {
   "display_name": "Python 3 (ipykernel)",
   "language": "python",
   "name": "python3"
  },
  "language_info": {
   "codemirror_mode": {
    "name": "ipython",
    "version": 3
   },
   "file_extension": ".py",
   "mimetype": "text/x-python",
   "name": "python",
   "nbconvert_exporter": "python",
   "pygments_lexer": "ipython3",
   "version": "3.11.0"
  }
 },
 "nbformat": 4,
 "nbformat_minor": 5
}
